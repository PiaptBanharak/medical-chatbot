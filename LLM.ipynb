{
 "cells": [
  {
   "cell_type": "code",
   "execution_count": 16,
   "id": "01cb3778-ba5a-4194-ae43-b46c8200887b",
   "metadata": {},
   "outputs": [],
   "source": [
    "import ollama\n",
    "import psycopg2\n"
   ]
  },
  {
   "cell_type": "code",
   "execution_count": 90,
   "id": "63128a45-ea2c-4b67-9aa8-0a7eb5d70b8b",
   "metadata": {},
   "outputs": [
    {
     "name": "stdout",
     "output_type": "stream",
     "text": [
      "หญิง|อายุ23ปีเสี่ยงต่อโรคซึมเศร้า (Major depressive disorder)2/18/2024เสี่ยงต่อโรคซึมเศร้าอ่อนเพลียไม่มีแรง+3สวัสดีค่ะ  อยากจะปรึกษาค่ะในช่วง2-3วันที่ผ่านมามีความรู้สึกดาวน์มากๆ รู้สึกเบื่อ ไม่อยากทำอะไร ไม่อยากเจอใคร ใครพูดอะไรก็หงุดหงิดไปหมด บางครั้งอยู่ดีๆก็รู้สึกแย่จนร้องไห้ก็มี นอนไม่หลับด้วยค่ะ  กว่าจะหลับใช้เวลานานมาก  มาวันนี้ไม่รู้สึกดาวน์แล้วค่ะ  แต่มันเหนื่อย เพลีย  รู้สึกอยากนอนตลอดเวลา  นี่ไม่ใช่ครั้งแรกที่เป็นค่ะ  เป็นทุกครั้งที่เครียดมากๆ หรือมีความรู้สึกแย่ๆเข้ามา  กว่าจะหายต้องใช้เวลาเป็นอาทิตย์เลยค่ะ มันเป็นเพระเครียดมากจนเกินไปหรือเพราะอะไรคะ  แล้วควรไปพบแพทย์เพื่อรับการรักษาดีไหมคะ \n",
      "\n",
      "ชาย|อายุ21ปีกระเพาะปัสสาวะอักเสบ (Cystitis)2/16/2024กระเพาะปัสสาวะอักเสบปัสสาวะกะปริบกะปรอยปัสสาวะบ่อย+1สวัสดีครับคือว่าผมมีอาการนี้มาได้ปีสองปีแล้วครับ เคยรับการรักษาแล้วเหมือนได้ทานยาระงับการบีบตัวกระเพาะปัสสาวะอยู่ช่วงนึง แต่ไม่รู้สึกว่าดีขึ้นแล้วก็ไม่ได้ไปรับการรักษาอีกเลยจนมันชินไปเอง ปวดปัสสาวะบ่อยๆ แต่จำนวนไม่เยอะ แต่เหมือนตอนนี้เข้าห้องน้ำบ่อยๆ จะเป็นปัญหามากขึ้นแล้วกลัวว่าจะเป็นกรวยไตอักเสบหรือป่าว เลยอยากถามว่าถ้าจะรักษาตอนนี้ทันไหมครับ \n",
      "\n",
      "ชาย|อายุ20ปีติดเชื้อชั้นใต้ผิวหนัง (Cellulitis)2/15/2024บวมตามร่างกายขาบวมบวม+2ลื่นแล้วท้องไปชนอ่างและมีน้ำใสๆปนเลือดออกจากสะดือ และบวมแดง เจ็บ ไม่มีแผล ควรรักษายังไงครับ พึ่งมี น้ำใสๆปนเลือดเมื่อวาน และอีก3-4วันก่อนมี อาการบวมแดงเจ็บที่สะดือ \n",
      "\n",
      "หญิง|อายุ20ปีปวดท้องประจำเดือน (Dysmenorrhea unpecified)11/27/2023จุกแน่นท้องปวดท้องประจำเดือนท้องอืด+3คือมีอะไรกับแฟน วันที่20 ใส่ถุงยางไม่รั่วไม่หลุด\n",
      "พอผมใกล้จะเสร็จ ผมก็รีบเอาอวัยวะเพศออกมาเสร็จนอกตัวของแฟนครับ แต่ยังใส่ถุงอยู่\n",
      " แล้วแฟนผมกลัวเลยกินยาคุมฉุกเฉินไปด้วย\n",
      "แล้ววันที่27 มีเลือด คล้ายประจำเดือนมา3วัน\n",
      "ปกติแฟนผมประจำเดือนมา2-6 แต่ไม่มา\n",
      "แล้วตอนนี้มี\n",
      "ปวดท้องน้อยใต้สะดือมาเป็นอาทิตย์แล้ว(ปวดช่วงหัวหน่าวมากกว่า)\n",
      "แล้วมีอาการคัดเต้า\n",
      "มีอาการท้องอืด หลังกินข้าวด้วยครับ\n",
      "มีโอกาสท้องมั้ยครับ กังวลมาก \n",
      "\n",
      "ชาย|อายุ17ปีแผลริมอ่อน (Chancroid)11/26/2023แผลริมอ่อนสวัสดีฮะ เอ่อ..พูดไงดี555พอดีผมมีตุ่มอะไรก้อไม่รู้ที่องคชาตอะครับตุ่มมันเป็นสีเดียวกับสีผิวเราเลย มันอาจะแตกต่างนิดหน่อยตอนโดนแสงแต่ก็ไม่ได้อะไรมาก  เหมือนมันเหมือนมันอยู่ใต้ผิวหนัง555 ไม่คัน/เจ็บเลยด้วย ตอนลูบ ๆ มันไม่ค่อยนิ่มเท่าไหร่ ลองบีบเล่น ๆ ก็ไม่แตกฮะคือส่วนตัวเดาว่าเป็นตุ่มไขมันอะไรทำนองนี้มากกว่าไม่คิดว่าเป็นโรคอะไรเพราะก็ไม่เคยมีเซ๊กส์อะครับ อยู่มาสักพักแล้วด้วย;--; \n",
      "\n",
      "ชาย|อายุ48ปีเสี่ยงต่อโรคทางอารมณ์ที่มีภาวะแทรกซ้อน (Mood disorder with psychotic feature unspecified)11/23/2023คิดฆ่าตัวตายเสี่ยงต่อโรคทางอารมณ์ที่มีภาวะแทรกซ้อนอยากตาย+1รักษาแบบไม่มีค่าใช้จ่าย มีไหมครับ \n",
      "\n",
      "หญิง|อายุ18ปีสงสัยภาวะตั้งครรภ์ (Pregnancy not yet confirmed)11/23/2023จุกแน่นท้องประจำเดือนมาน้อยกว่าปกติประจำเดือนขาด+3แฟนของผมโดยปกติจะมีรอบเดือนอยู่ที่ประมาณ27วัน ซึ่งล่าสุดคือ19-24ต.ค. เรามีเพศสัมพันธ์กันในวันที่11พ.ย.แบบไม่ได้ป้องกันประมาณ1-2นาที แต่หลังจากนั้นก็สวมถุงป้องกันและไม่ได้หลั่งใน หลังจากนั้นภายใน1ชม.ก็ไปกินยาคุมกำเนิดฉุกเฉิน(แบบ1เม็ด) หลังจากที่กินยามีเพียงเลือดออกที่ช่องคลอดประมาณ3วันซึ่งน่าจะเป็นผลมาจากผลข้างเคียงของยา กำหนดรอบเดือนในพ.ย.ของเธอคือ15พ.ย. หากผลข้างเคียงที่จำทำให้ประจำเดือนมาช้ากว่าเดิม1สัปดาห์ก็น่าจะมาในวันที่22พ.ย. แต่จนถึงวันนี้25พ.ย. น่าจะเป็นวันที่37แล้ว ประจำเดือนก็ยังไม่มา ถามดูแล้วเจ้าตัวไม่พบความผิดปกติอะไรเลย ไม่ได้ปวดท้องหรือฉี่บ่อยขึ้นกว่าเดิม และไม่ได้เครียดด้วย \n",
      "\n",
      "ชาย|อายุ29ปีโรคนอนไม่หลับ (Insomnia)11/22/2023โรคนอนไม่หลับนอนไม่หลับนอนหลับยาก+1สวัสดีครับ ตอนนี้ผมมีอาการลิ้นไ่ม่รู้รส มาสักประมาณ4-5 เดือน กินอะไรไปก็มีรสชาติจืดหมด  ปัจจุบันผมมีอาการนอนไม่หลับที่รักษามาสักระยะหนึ่งแล้ว ยาที่หรับประทานอยู่ 2 ตัวคือ new generation dopamine antagonist กับ SSRI -long action (สั่งจ่ายโดยหมอจิตเวช) เลยอยากทราบว่า ยามีผลขต่อการรับรสชาติที่เปลี่ยนไปไหมครับ ้้้้้้้้้้้้้้้้้้้้้้้้้้้้้้้้้้้้้้้้้้้้้้้้้้้้้้้้้้้้้้้้้้ \n",
      "\n",
      "หญิง|อายุ40ปีเชื้อราในช่องคลอด (Candida vaginitis)11/21/2023เชื้อราในช่องคลอดคันและแสบที่อวัยวะเพศตอนนี้เปนผื่นแดงแล้วเจ้บคะ \n",
      "\n",
      "หญิง|อายุ25ปีเสี่ยงต่อโรคซึมเศร้า (Major depressive disorder)11/19/2023เสี่ยงต่อโรคซึมเศร้าเศร้าท้อแท้+9หนูร้องไห้ตลอดเวลา รู้สึกไร้ค่า ไม่มีใครรัก ตัวคนเดียว ชอบนั้งร้องไห้คนเดียว นอนอไม่หลับ พึ่งยานอนหลับเป็นบางวัน มึนหัวบ่อยๆ มือสั่นใจสั่น บางที่รู้สึกหอบ \n",
      "\n",
      "ชาย|อายุ53ปีวัณโรคกระดูกสันหลัง (TB spine)11/18/2023น้ำหนักลดอ่อนเพลียไม่มีแรง+2หลังผ่าตัด จะกลับมาเดินได้ปกติมั้ยคะ \n",
      "\n",
      "หญิง|อายุ34ปีภาวะช่องคลอดอักเสบจากเชื้อแบคทีเรีย (Bacterial vaginosis)11/18/2023ภาวะช่องคลอดอักเสบจากเชื้อแบคทีเรียตกขาวผิดปกติช่วงนี้น้องสาวมีกลิ่น มีตกขาวเป็นก้อนแป้ง บางทีก็เป็นมูกสีเขียว  ตอนฉี่มีขาวๆเหมือนผงแป้งปนมาด้วย สาเหตุเกิดจากอะไรคะ \n",
      "\n",
      "หญิง|อายุ19ปีภาวะการปรับตัวผิดปกติ (Adjustment disorder)11/18/2023ภาวะการปรับตัวผิดปกติวิตกกังวลคิดมาก+2มีอาการเศร้าคิดมากเครียดวิตกกังวลหยุดคิดไม่ได้คิดซ้ำๆ ควรปรับตัวยังไงคะเพราะกลัวว่าจะกลับไปทำร้ายตัวเองอีก \n",
      "\n",
      "ชาย|อายุ19ปีกระเพาะปัสสาวะอักเสบ (Cystitis)11/18/2023จุกแน่นท้องปัสสาวะกะปริบกะปรอยก้อนบริเวณอัณฑะ+3สวัสดีครับ หลังจากผมช่วยตัวเองไปก็เริ่มมีอาการ ปัสสาวะบ่อยแต่น้อย ถุงอัณฑะมีก้อนนิ้มๆจับแล้วปวด และปวดท้องน้อยครับ เริ่มมีอาการตั้งแต่วันอังคารที่ 14 ครับ \n",
      "\n",
      "หญิง|อายุ21ปีเสี่ยงต่อโรคซึมเศร้า (Major depressive disorder)11/17/2023รู้สึกไร้ค่าอยากตายทำร้ายตัวเอง+7คือหนูค่อนข้างรู้สึกว่าตัวเองเศร้าง่ายมากเลยค่ะแบบว่าเศร้าบ่อยมีอะไรกระทบกระเทือนใจนิดหน่อยก็คือร้องไห้เลยค่ะแทบจะทุกครั้งที่ร้องไห้รู้สึกเศร้ามากและในหัวความคิดแรกก็คือตายไปเลยดีมั้ยแบบนี้อะค่ะหลังจากนั้นก็จะร้องไห้ไม่หยุด โทษตัวเองถึงแม้ว่ามันจะไม่ใช่ความผิดเราแต่ ถ้าคนอื่นพูดมาว่าใช่เราก็จะชอบคิดว่ามันเป็นความผิดเราแล้วก็เศร้ามากค่ะแต่ในทุกๆครั้งที่หนูมีความคิดว่าตายไปซะเลยดีมั้ยเหนื่อยจังไม่อยากมีชีวิตอยู่ต่อแล้วอยากหนีไปไกลๆแต่ในหลายหลายครั้งที่หนูคิดแบบนี้ก็จะมีความคิดหนึ่งแทรกมาในหัวก็คือถึงแม้ว่าหนูอยากตายแต่ที่จริงแล้วเราก็ยังอยากที่จะมีชีวิตอยู่อ่ะค่ะเพื่อดูว่า เราเองก็อยากรู้ว่าโลกต่อไปจะเป็นยังไงจะมีอะไรเปลี่ยนแปลงเปลี่ยนแปลงไปไหมอยากเป็นคนที่มีความสุขบ้างอะค่ะแต่ว่ามันยากมากเลย \n",
      "\n",
      "หญิง|อายุ51ปีเสี่ยงต่อโรคซึมเศร้า (Major depressive disorder)11/17/2023ง่วงตลอดเวลาหลับมากกว่าปกติเสี่ยงต่อโรคซึมเศร้า+2รู้สึกนอนไม่หลับ หรือหลับยากมานานกว่า 3 เดือน ชอบตื่นกลางดึก ทุกเที่ยงคืน และตี 3 เสมอ ๆ ส่งผลกระทบต่อการทำงานมาก ๆ เพราะมีอาการวูบหลับหลายครั้ง \n",
      "\n"
     ]
    },
    {
     "ename": "KeyboardInterrupt",
     "evalue": "",
     "output_type": "error",
     "traceback": [
      "\u001b[31m---------------------------------------------------------------------------\u001b[39m",
      "\u001b[31mKeyboardInterrupt\u001b[39m                         Traceback (most recent call last)",
      "\u001b[36mCell\u001b[39m\u001b[36m \u001b[39m\u001b[32mIn[90]\u001b[39m\u001b[32m, line 31\u001b[39m\n\u001b[32m     29\u001b[39m \u001b[38;5;28;01mwhile\u001b[39;00m \u001b[38;5;28;01mTrue\u001b[39;00m:\n\u001b[32m     30\u001b[39m     url = base_url + \u001b[38;5;28mstr\u001b[39m(page)\n\u001b[32m---> \u001b[39m\u001b[32m31\u001b[39m     web_data = \u001b[43mrequests\u001b[49m\u001b[43m.\u001b[49m\u001b[43mget\u001b[49m\u001b[43m(\u001b[49m\u001b[43murl\u001b[49m\u001b[43m)\u001b[49m\n\u001b[32m     32\u001b[39m     soup = BeautifulSoup(web_data.text, \u001b[33m'\u001b[39m\u001b[33mhtml.parser\u001b[39m\u001b[33m'\u001b[39m)\n\u001b[32m     34\u001b[39m     \u001b[38;5;66;03m# หา <p> ที่ตรง class เป้าหมาย\u001b[39;00m\n",
      "\u001b[36mFile \u001b[39m\u001b[32m~\\AgnosTask1\\.venv\\Lib\\site-packages\\requests\\api.py:73\u001b[39m, in \u001b[36mget\u001b[39m\u001b[34m(url, params, **kwargs)\u001b[39m\n\u001b[32m     62\u001b[39m \u001b[38;5;28;01mdef\u001b[39;00m\u001b[38;5;250m \u001b[39m\u001b[34mget\u001b[39m(url, params=\u001b[38;5;28;01mNone\u001b[39;00m, **kwargs):\n\u001b[32m     63\u001b[39m \u001b[38;5;250m    \u001b[39m\u001b[33mr\u001b[39m\u001b[33;03m\"\"\"Sends a GET request.\u001b[39;00m\n\u001b[32m     64\u001b[39m \n\u001b[32m     65\u001b[39m \u001b[33;03m    :param url: URL for the new :class:`Request` object.\u001b[39;00m\n\u001b[32m   (...)\u001b[39m\u001b[32m     70\u001b[39m \u001b[33;03m    :rtype: requests.Response\u001b[39;00m\n\u001b[32m     71\u001b[39m \u001b[33;03m    \"\"\"\u001b[39;00m\n\u001b[32m---> \u001b[39m\u001b[32m73\u001b[39m     \u001b[38;5;28;01mreturn\u001b[39;00m \u001b[43mrequest\u001b[49m\u001b[43m(\u001b[49m\u001b[33;43m\"\u001b[39;49m\u001b[33;43mget\u001b[39;49m\u001b[33;43m\"\u001b[39;49m\u001b[43m,\u001b[49m\u001b[43m \u001b[49m\u001b[43murl\u001b[49m\u001b[43m,\u001b[49m\u001b[43m \u001b[49m\u001b[43mparams\u001b[49m\u001b[43m=\u001b[49m\u001b[43mparams\u001b[49m\u001b[43m,\u001b[49m\u001b[43m \u001b[49m\u001b[43m*\u001b[49m\u001b[43m*\u001b[49m\u001b[43mkwargs\u001b[49m\u001b[43m)\u001b[49m\n",
      "\u001b[36mFile \u001b[39m\u001b[32m~\\AgnosTask1\\.venv\\Lib\\site-packages\\requests\\api.py:59\u001b[39m, in \u001b[36mrequest\u001b[39m\u001b[34m(method, url, **kwargs)\u001b[39m\n\u001b[32m     55\u001b[39m \u001b[38;5;66;03m# By using the 'with' statement we are sure the session is closed, thus we\u001b[39;00m\n\u001b[32m     56\u001b[39m \u001b[38;5;66;03m# avoid leaving sockets open which can trigger a ResourceWarning in some\u001b[39;00m\n\u001b[32m     57\u001b[39m \u001b[38;5;66;03m# cases, and look like a memory leak in others.\u001b[39;00m\n\u001b[32m     58\u001b[39m \u001b[38;5;28;01mwith\u001b[39;00m sessions.Session() \u001b[38;5;28;01mas\u001b[39;00m session:\n\u001b[32m---> \u001b[39m\u001b[32m59\u001b[39m     \u001b[38;5;28;01mreturn\u001b[39;00m \u001b[43msession\u001b[49m\u001b[43m.\u001b[49m\u001b[43mrequest\u001b[49m\u001b[43m(\u001b[49m\u001b[43mmethod\u001b[49m\u001b[43m=\u001b[49m\u001b[43mmethod\u001b[49m\u001b[43m,\u001b[49m\u001b[43m \u001b[49m\u001b[43murl\u001b[49m\u001b[43m=\u001b[49m\u001b[43murl\u001b[49m\u001b[43m,\u001b[49m\u001b[43m \u001b[49m\u001b[43m*\u001b[49m\u001b[43m*\u001b[49m\u001b[43mkwargs\u001b[49m\u001b[43m)\u001b[49m\n",
      "\u001b[36mFile \u001b[39m\u001b[32m~\\AgnosTask1\\.venv\\Lib\\site-packages\\requests\\sessions.py:589\u001b[39m, in \u001b[36mSession.request\u001b[39m\u001b[34m(self, method, url, params, data, headers, cookies, files, auth, timeout, allow_redirects, proxies, hooks, stream, verify, cert, json)\u001b[39m\n\u001b[32m    584\u001b[39m send_kwargs = {\n\u001b[32m    585\u001b[39m     \u001b[33m\"\u001b[39m\u001b[33mtimeout\u001b[39m\u001b[33m\"\u001b[39m: timeout,\n\u001b[32m    586\u001b[39m     \u001b[33m\"\u001b[39m\u001b[33mallow_redirects\u001b[39m\u001b[33m\"\u001b[39m: allow_redirects,\n\u001b[32m    587\u001b[39m }\n\u001b[32m    588\u001b[39m send_kwargs.update(settings)\n\u001b[32m--> \u001b[39m\u001b[32m589\u001b[39m resp = \u001b[38;5;28;43mself\u001b[39;49m\u001b[43m.\u001b[49m\u001b[43msend\u001b[49m\u001b[43m(\u001b[49m\u001b[43mprep\u001b[49m\u001b[43m,\u001b[49m\u001b[43m \u001b[49m\u001b[43m*\u001b[49m\u001b[43m*\u001b[49m\u001b[43msend_kwargs\u001b[49m\u001b[43m)\u001b[49m\n\u001b[32m    591\u001b[39m \u001b[38;5;28;01mreturn\u001b[39;00m resp\n",
      "\u001b[36mFile \u001b[39m\u001b[32m~\\AgnosTask1\\.venv\\Lib\\site-packages\\requests\\sessions.py:703\u001b[39m, in \u001b[36mSession.send\u001b[39m\u001b[34m(self, request, **kwargs)\u001b[39m\n\u001b[32m    700\u001b[39m start = preferred_clock()\n\u001b[32m    702\u001b[39m \u001b[38;5;66;03m# Send the request\u001b[39;00m\n\u001b[32m--> \u001b[39m\u001b[32m703\u001b[39m r = \u001b[43madapter\u001b[49m\u001b[43m.\u001b[49m\u001b[43msend\u001b[49m\u001b[43m(\u001b[49m\u001b[43mrequest\u001b[49m\u001b[43m,\u001b[49m\u001b[43m \u001b[49m\u001b[43m*\u001b[49m\u001b[43m*\u001b[49m\u001b[43mkwargs\u001b[49m\u001b[43m)\u001b[49m\n\u001b[32m    705\u001b[39m \u001b[38;5;66;03m# Total elapsed time of the request (approximately)\u001b[39;00m\n\u001b[32m    706\u001b[39m elapsed = preferred_clock() - start\n",
      "\u001b[36mFile \u001b[39m\u001b[32m~\\AgnosTask1\\.venv\\Lib\\site-packages\\requests\\adapters.py:667\u001b[39m, in \u001b[36mHTTPAdapter.send\u001b[39m\u001b[34m(self, request, stream, timeout, verify, cert, proxies)\u001b[39m\n\u001b[32m    664\u001b[39m     timeout = TimeoutSauce(connect=timeout, read=timeout)\n\u001b[32m    666\u001b[39m \u001b[38;5;28;01mtry\u001b[39;00m:\n\u001b[32m--> \u001b[39m\u001b[32m667\u001b[39m     resp = \u001b[43mconn\u001b[49m\u001b[43m.\u001b[49m\u001b[43murlopen\u001b[49m\u001b[43m(\u001b[49m\n\u001b[32m    668\u001b[39m \u001b[43m        \u001b[49m\u001b[43mmethod\u001b[49m\u001b[43m=\u001b[49m\u001b[43mrequest\u001b[49m\u001b[43m.\u001b[49m\u001b[43mmethod\u001b[49m\u001b[43m,\u001b[49m\n\u001b[32m    669\u001b[39m \u001b[43m        \u001b[49m\u001b[43murl\u001b[49m\u001b[43m=\u001b[49m\u001b[43murl\u001b[49m\u001b[43m,\u001b[49m\n\u001b[32m    670\u001b[39m \u001b[43m        \u001b[49m\u001b[43mbody\u001b[49m\u001b[43m=\u001b[49m\u001b[43mrequest\u001b[49m\u001b[43m.\u001b[49m\u001b[43mbody\u001b[49m\u001b[43m,\u001b[49m\n\u001b[32m    671\u001b[39m \u001b[43m        \u001b[49m\u001b[43mheaders\u001b[49m\u001b[43m=\u001b[49m\u001b[43mrequest\u001b[49m\u001b[43m.\u001b[49m\u001b[43mheaders\u001b[49m\u001b[43m,\u001b[49m\n\u001b[32m    672\u001b[39m \u001b[43m        \u001b[49m\u001b[43mredirect\u001b[49m\u001b[43m=\u001b[49m\u001b[38;5;28;43;01mFalse\u001b[39;49;00m\u001b[43m,\u001b[49m\n\u001b[32m    673\u001b[39m \u001b[43m        \u001b[49m\u001b[43massert_same_host\u001b[49m\u001b[43m=\u001b[49m\u001b[38;5;28;43;01mFalse\u001b[39;49;00m\u001b[43m,\u001b[49m\n\u001b[32m    674\u001b[39m \u001b[43m        \u001b[49m\u001b[43mpreload_content\u001b[49m\u001b[43m=\u001b[49m\u001b[38;5;28;43;01mFalse\u001b[39;49;00m\u001b[43m,\u001b[49m\n\u001b[32m    675\u001b[39m \u001b[43m        \u001b[49m\u001b[43mdecode_content\u001b[49m\u001b[43m=\u001b[49m\u001b[38;5;28;43;01mFalse\u001b[39;49;00m\u001b[43m,\u001b[49m\n\u001b[32m    676\u001b[39m \u001b[43m        \u001b[49m\u001b[43mretries\u001b[49m\u001b[43m=\u001b[49m\u001b[38;5;28;43mself\u001b[39;49m\u001b[43m.\u001b[49m\u001b[43mmax_retries\u001b[49m\u001b[43m,\u001b[49m\n\u001b[32m    677\u001b[39m \u001b[43m        \u001b[49m\u001b[43mtimeout\u001b[49m\u001b[43m=\u001b[49m\u001b[43mtimeout\u001b[49m\u001b[43m,\u001b[49m\n\u001b[32m    678\u001b[39m \u001b[43m        \u001b[49m\u001b[43mchunked\u001b[49m\u001b[43m=\u001b[49m\u001b[43mchunked\u001b[49m\u001b[43m,\u001b[49m\n\u001b[32m    679\u001b[39m \u001b[43m    \u001b[49m\u001b[43m)\u001b[49m\n\u001b[32m    681\u001b[39m \u001b[38;5;28;01mexcept\u001b[39;00m (ProtocolError, \u001b[38;5;167;01mOSError\u001b[39;00m) \u001b[38;5;28;01mas\u001b[39;00m err:\n\u001b[32m    682\u001b[39m     \u001b[38;5;28;01mraise\u001b[39;00m \u001b[38;5;167;01mConnectionError\u001b[39;00m(err, request=request)\n",
      "\u001b[36mFile \u001b[39m\u001b[32m~\\AgnosTask1\\.venv\\Lib\\site-packages\\urllib3\\connectionpool.py:787\u001b[39m, in \u001b[36mHTTPConnectionPool.urlopen\u001b[39m\u001b[34m(self, method, url, body, headers, retries, redirect, assert_same_host, timeout, pool_timeout, release_conn, chunked, body_pos, preload_content, decode_content, **response_kw)\u001b[39m\n\u001b[32m    784\u001b[39m response_conn = conn \u001b[38;5;28;01mif\u001b[39;00m \u001b[38;5;129;01mnot\u001b[39;00m release_conn \u001b[38;5;28;01melse\u001b[39;00m \u001b[38;5;28;01mNone\u001b[39;00m\n\u001b[32m    786\u001b[39m \u001b[38;5;66;03m# Make the request on the HTTPConnection object\u001b[39;00m\n\u001b[32m--> \u001b[39m\u001b[32m787\u001b[39m response = \u001b[38;5;28;43mself\u001b[39;49m\u001b[43m.\u001b[49m\u001b[43m_make_request\u001b[49m\u001b[43m(\u001b[49m\n\u001b[32m    788\u001b[39m \u001b[43m    \u001b[49m\u001b[43mconn\u001b[49m\u001b[43m,\u001b[49m\n\u001b[32m    789\u001b[39m \u001b[43m    \u001b[49m\u001b[43mmethod\u001b[49m\u001b[43m,\u001b[49m\n\u001b[32m    790\u001b[39m \u001b[43m    \u001b[49m\u001b[43murl\u001b[49m\u001b[43m,\u001b[49m\n\u001b[32m    791\u001b[39m \u001b[43m    \u001b[49m\u001b[43mtimeout\u001b[49m\u001b[43m=\u001b[49m\u001b[43mtimeout_obj\u001b[49m\u001b[43m,\u001b[49m\n\u001b[32m    792\u001b[39m \u001b[43m    \u001b[49m\u001b[43mbody\u001b[49m\u001b[43m=\u001b[49m\u001b[43mbody\u001b[49m\u001b[43m,\u001b[49m\n\u001b[32m    793\u001b[39m \u001b[43m    \u001b[49m\u001b[43mheaders\u001b[49m\u001b[43m=\u001b[49m\u001b[43mheaders\u001b[49m\u001b[43m,\u001b[49m\n\u001b[32m    794\u001b[39m \u001b[43m    \u001b[49m\u001b[43mchunked\u001b[49m\u001b[43m=\u001b[49m\u001b[43mchunked\u001b[49m\u001b[43m,\u001b[49m\n\u001b[32m    795\u001b[39m \u001b[43m    \u001b[49m\u001b[43mretries\u001b[49m\u001b[43m=\u001b[49m\u001b[43mretries\u001b[49m\u001b[43m,\u001b[49m\n\u001b[32m    796\u001b[39m \u001b[43m    \u001b[49m\u001b[43mresponse_conn\u001b[49m\u001b[43m=\u001b[49m\u001b[43mresponse_conn\u001b[49m\u001b[43m,\u001b[49m\n\u001b[32m    797\u001b[39m \u001b[43m    \u001b[49m\u001b[43mpreload_content\u001b[49m\u001b[43m=\u001b[49m\u001b[43mpreload_content\u001b[49m\u001b[43m,\u001b[49m\n\u001b[32m    798\u001b[39m \u001b[43m    \u001b[49m\u001b[43mdecode_content\u001b[49m\u001b[43m=\u001b[49m\u001b[43mdecode_content\u001b[49m\u001b[43m,\u001b[49m\n\u001b[32m    799\u001b[39m \u001b[43m    \u001b[49m\u001b[43m*\u001b[49m\u001b[43m*\u001b[49m\u001b[43mresponse_kw\u001b[49m\u001b[43m,\u001b[49m\n\u001b[32m    800\u001b[39m \u001b[43m\u001b[49m\u001b[43m)\u001b[49m\n\u001b[32m    802\u001b[39m \u001b[38;5;66;03m# Everything went great!\u001b[39;00m\n\u001b[32m    803\u001b[39m clean_exit = \u001b[38;5;28;01mTrue\u001b[39;00m\n",
      "\u001b[36mFile \u001b[39m\u001b[32m~\\AgnosTask1\\.venv\\Lib\\site-packages\\urllib3\\connectionpool.py:534\u001b[39m, in \u001b[36mHTTPConnectionPool._make_request\u001b[39m\u001b[34m(self, conn, method, url, body, headers, retries, timeout, chunked, response_conn, preload_content, decode_content, enforce_content_length)\u001b[39m\n\u001b[32m    532\u001b[39m \u001b[38;5;66;03m# Receive the response from the server\u001b[39;00m\n\u001b[32m    533\u001b[39m \u001b[38;5;28;01mtry\u001b[39;00m:\n\u001b[32m--> \u001b[39m\u001b[32m534\u001b[39m     response = \u001b[43mconn\u001b[49m\u001b[43m.\u001b[49m\u001b[43mgetresponse\u001b[49m\u001b[43m(\u001b[49m\u001b[43m)\u001b[49m\n\u001b[32m    535\u001b[39m \u001b[38;5;28;01mexcept\u001b[39;00m (BaseSSLError, \u001b[38;5;167;01mOSError\u001b[39;00m) \u001b[38;5;28;01mas\u001b[39;00m e:\n\u001b[32m    536\u001b[39m     \u001b[38;5;28mself\u001b[39m._raise_timeout(err=e, url=url, timeout_value=read_timeout)\n",
      "\u001b[36mFile \u001b[39m\u001b[32m~\\AgnosTask1\\.venv\\Lib\\site-packages\\urllib3\\connection.py:516\u001b[39m, in \u001b[36mHTTPConnection.getresponse\u001b[39m\u001b[34m(self)\u001b[39m\n\u001b[32m    513\u001b[39m _shutdown = \u001b[38;5;28mgetattr\u001b[39m(\u001b[38;5;28mself\u001b[39m.sock, \u001b[33m\"\u001b[39m\u001b[33mshutdown\u001b[39m\u001b[33m\"\u001b[39m, \u001b[38;5;28;01mNone\u001b[39;00m)\n\u001b[32m    515\u001b[39m \u001b[38;5;66;03m# Get the response from http.client.HTTPConnection\u001b[39;00m\n\u001b[32m--> \u001b[39m\u001b[32m516\u001b[39m httplib_response = \u001b[38;5;28;43msuper\u001b[39;49m\u001b[43m(\u001b[49m\u001b[43m)\u001b[49m\u001b[43m.\u001b[49m\u001b[43mgetresponse\u001b[49m\u001b[43m(\u001b[49m\u001b[43m)\u001b[49m\n\u001b[32m    518\u001b[39m \u001b[38;5;28;01mtry\u001b[39;00m:\n\u001b[32m    519\u001b[39m     assert_header_parsing(httplib_response.msg)\n",
      "\u001b[36mFile \u001b[39m\u001b[32mC:\\Python312\\Lib\\http\\client.py:1411\u001b[39m, in \u001b[36mHTTPConnection.getresponse\u001b[39m\u001b[34m(self)\u001b[39m\n\u001b[32m   1409\u001b[39m \u001b[38;5;28;01mtry\u001b[39;00m:\n\u001b[32m   1410\u001b[39m     \u001b[38;5;28;01mtry\u001b[39;00m:\n\u001b[32m-> \u001b[39m\u001b[32m1411\u001b[39m         \u001b[43mresponse\u001b[49m\u001b[43m.\u001b[49m\u001b[43mbegin\u001b[49m\u001b[43m(\u001b[49m\u001b[43m)\u001b[49m\n\u001b[32m   1412\u001b[39m     \u001b[38;5;28;01mexcept\u001b[39;00m \u001b[38;5;167;01mConnectionError\u001b[39;00m:\n\u001b[32m   1413\u001b[39m         \u001b[38;5;28mself\u001b[39m.close()\n",
      "\u001b[36mFile \u001b[39m\u001b[32mC:\\Python312\\Lib\\http\\client.py:324\u001b[39m, in \u001b[36mHTTPResponse.begin\u001b[39m\u001b[34m(self)\u001b[39m\n\u001b[32m    322\u001b[39m \u001b[38;5;66;03m# read until we get a non-100 response\u001b[39;00m\n\u001b[32m    323\u001b[39m \u001b[38;5;28;01mwhile\u001b[39;00m \u001b[38;5;28;01mTrue\u001b[39;00m:\n\u001b[32m--> \u001b[39m\u001b[32m324\u001b[39m     version, status, reason = \u001b[38;5;28;43mself\u001b[39;49m\u001b[43m.\u001b[49m\u001b[43m_read_status\u001b[49m\u001b[43m(\u001b[49m\u001b[43m)\u001b[49m\n\u001b[32m    325\u001b[39m     \u001b[38;5;28;01mif\u001b[39;00m status != CONTINUE:\n\u001b[32m    326\u001b[39m         \u001b[38;5;28;01mbreak\u001b[39;00m\n",
      "\u001b[36mFile \u001b[39m\u001b[32mC:\\Python312\\Lib\\http\\client.py:285\u001b[39m, in \u001b[36mHTTPResponse._read_status\u001b[39m\u001b[34m(self)\u001b[39m\n\u001b[32m    284\u001b[39m \u001b[38;5;28;01mdef\u001b[39;00m\u001b[38;5;250m \u001b[39m\u001b[34m_read_status\u001b[39m(\u001b[38;5;28mself\u001b[39m):\n\u001b[32m--> \u001b[39m\u001b[32m285\u001b[39m     line = \u001b[38;5;28mstr\u001b[39m(\u001b[38;5;28;43mself\u001b[39;49m\u001b[43m.\u001b[49m\u001b[43mfp\u001b[49m\u001b[43m.\u001b[49m\u001b[43mreadline\u001b[49m\u001b[43m(\u001b[49m\u001b[43m_MAXLINE\u001b[49m\u001b[43m \u001b[49m\u001b[43m+\u001b[49m\u001b[43m \u001b[49m\u001b[32;43m1\u001b[39;49m\u001b[43m)\u001b[49m, \u001b[33m\"\u001b[39m\u001b[33miso-8859-1\u001b[39m\u001b[33m\"\u001b[39m)\n\u001b[32m    286\u001b[39m     \u001b[38;5;28;01mif\u001b[39;00m \u001b[38;5;28mlen\u001b[39m(line) > _MAXLINE:\n\u001b[32m    287\u001b[39m         \u001b[38;5;28;01mraise\u001b[39;00m LineTooLong(\u001b[33m\"\u001b[39m\u001b[33mstatus line\u001b[39m\u001b[33m\"\u001b[39m)\n",
      "\u001b[36mFile \u001b[39m\u001b[32mC:\\Python312\\Lib\\socket.py:707\u001b[39m, in \u001b[36mSocketIO.readinto\u001b[39m\u001b[34m(self, b)\u001b[39m\n\u001b[32m    705\u001b[39m \u001b[38;5;28;01mwhile\u001b[39;00m \u001b[38;5;28;01mTrue\u001b[39;00m:\n\u001b[32m    706\u001b[39m     \u001b[38;5;28;01mtry\u001b[39;00m:\n\u001b[32m--> \u001b[39m\u001b[32m707\u001b[39m         \u001b[38;5;28;01mreturn\u001b[39;00m \u001b[38;5;28;43mself\u001b[39;49m\u001b[43m.\u001b[49m\u001b[43m_sock\u001b[49m\u001b[43m.\u001b[49m\u001b[43mrecv_into\u001b[49m\u001b[43m(\u001b[49m\u001b[43mb\u001b[49m\u001b[43m)\u001b[49m\n\u001b[32m    708\u001b[39m     \u001b[38;5;28;01mexcept\u001b[39;00m timeout:\n\u001b[32m    709\u001b[39m         \u001b[38;5;28mself\u001b[39m._timeout_occurred = \u001b[38;5;28;01mTrue\u001b[39;00m\n",
      "\u001b[36mFile \u001b[39m\u001b[32mC:\\Python312\\Lib\\ssl.py:1249\u001b[39m, in \u001b[36mSSLSocket.recv_into\u001b[39m\u001b[34m(self, buffer, nbytes, flags)\u001b[39m\n\u001b[32m   1245\u001b[39m     \u001b[38;5;28;01mif\u001b[39;00m flags != \u001b[32m0\u001b[39m:\n\u001b[32m   1246\u001b[39m         \u001b[38;5;28;01mraise\u001b[39;00m \u001b[38;5;167;01mValueError\u001b[39;00m(\n\u001b[32m   1247\u001b[39m           \u001b[33m\"\u001b[39m\u001b[33mnon-zero flags not allowed in calls to recv_into() on \u001b[39m\u001b[38;5;132;01m%s\u001b[39;00m\u001b[33m\"\u001b[39m %\n\u001b[32m   1248\u001b[39m           \u001b[38;5;28mself\u001b[39m.\u001b[34m__class__\u001b[39m)\n\u001b[32m-> \u001b[39m\u001b[32m1249\u001b[39m     \u001b[38;5;28;01mreturn\u001b[39;00m \u001b[38;5;28;43mself\u001b[39;49m\u001b[43m.\u001b[49m\u001b[43mread\u001b[49m\u001b[43m(\u001b[49m\u001b[43mnbytes\u001b[49m\u001b[43m,\u001b[49m\u001b[43m \u001b[49m\u001b[43mbuffer\u001b[49m\u001b[43m)\u001b[49m\n\u001b[32m   1250\u001b[39m \u001b[38;5;28;01melse\u001b[39;00m:\n\u001b[32m   1251\u001b[39m     \u001b[38;5;28;01mreturn\u001b[39;00m \u001b[38;5;28msuper\u001b[39m().recv_into(buffer, nbytes, flags)\n",
      "\u001b[36mFile \u001b[39m\u001b[32mC:\\Python312\\Lib\\ssl.py:1105\u001b[39m, in \u001b[36mSSLSocket.read\u001b[39m\u001b[34m(self, len, buffer)\u001b[39m\n\u001b[32m   1103\u001b[39m \u001b[38;5;28;01mtry\u001b[39;00m:\n\u001b[32m   1104\u001b[39m     \u001b[38;5;28;01mif\u001b[39;00m buffer \u001b[38;5;129;01mis\u001b[39;00m \u001b[38;5;129;01mnot\u001b[39;00m \u001b[38;5;28;01mNone\u001b[39;00m:\n\u001b[32m-> \u001b[39m\u001b[32m1105\u001b[39m         \u001b[38;5;28;01mreturn\u001b[39;00m \u001b[38;5;28;43mself\u001b[39;49m\u001b[43m.\u001b[49m\u001b[43m_sslobj\u001b[49m\u001b[43m.\u001b[49m\u001b[43mread\u001b[49m\u001b[43m(\u001b[49m\u001b[38;5;28;43mlen\u001b[39;49m\u001b[43m,\u001b[49m\u001b[43m \u001b[49m\u001b[43mbuffer\u001b[49m\u001b[43m)\u001b[49m\n\u001b[32m   1106\u001b[39m     \u001b[38;5;28;01melse\u001b[39;00m:\n\u001b[32m   1107\u001b[39m         \u001b[38;5;28;01mreturn\u001b[39;00m \u001b[38;5;28mself\u001b[39m._sslobj.read(\u001b[38;5;28mlen\u001b[39m)\n",
      "\u001b[31mKeyboardInterrupt\u001b[39m: "
     ]
    }
   ],
   "source": [
    "import requests\n",
    "from bs4 import BeautifulSoup\n",
    "import psycopg2\n",
    "from sentence_transformers import SentenceTransformer\n",
    "\n",
    "\n",
    "conn = psycopg2.connect(\n",
    "    dbname=\"mydb\",\n",
    "    user=\"admin\",\n",
    "    password=\"1234\",\n",
    "    host=\"localhost\",\n",
    "    port=\"5432\"\n",
    ")\n",
    "cur = conn.cursor()\n",
    "\n",
    "\n",
    "embedder = SentenceTransformer(\"BAAI/bge-m3\")\n",
    "\n",
    "\n",
    "def add_document(text):\n",
    "    embedding = embedder.encode(text).tolist()\n",
    "    cur.execute(\"INSERT INTO documents (content, embedding) VALUES (%s, %s)\", (text, embedding))\n",
    "    conn.commit()\n",
    "\n",
    "\n",
    "base_url = \"https://www.agnoshealth.com/forums/search?page=\"\n",
    "page = 1\n",
    "\n",
    "while True:\n",
    "    url = base_url + str(page)\n",
    "    web_data = requests.get(url)\n",
    "    soup = BeautifulSoup(web_data.text, 'html.parser')\n",
    "\n",
    "    \n",
    "    find_word = soup.find_all(\"div\", class_=\"flex flex-col\")\n",
    "\n",
    "  \n",
    "    if not find_word:\n",
    "        print(\"No data:\", page)\n",
    "        break\n",
    "\n",
    "    for i in find_word:\n",
    "        text = i.get_text(strip=True)\n",
    "        print(text, \"\\n\")\n",
    "        add_document(text)\n",
    "\n",
    "    page += 1\n",
    "   \n",
    "\n",
    "\n",
    "cur.close()\n",
    "conn.close()\n",
    "\n",
    "def generate_response(query_text):\n",
    "    retrieved_docs = query_postgresql(query_text)\n",
    "    context = \"\\n\".join([doc[0] for doc in retrieved_docs])\n",
    "    prompt = f\"Answer the question:\\n{context}\\n\\nQuestion:{query_text}\"\n",
    "    response = ollama.chat(model=\"llama3.2\",messages=[\n",
    "        {\"role\":\"system\",\"content\":\"You are a kind, informative AI medical assistant\"},\n",
    "        {\"role\":\"user\",\"content\":prompt}\n",
    "    ])\n",
    "    return response[\"message\"][\"content\"]"
   ]
  },
  {
   "cell_type": "code",
   "execution_count": 74,
   "id": "e6b05136-4f31-4772-a0a6-c69a5ab0f5aa",
   "metadata": {},
   "outputs": [],
   "source": [
    "conn = psycopg2.connect(\n",
    "    dbname = \"mydb\",\n",
    "    user = \"admin\",\n",
    "    password = \"1234\",\n",
    "    host = \"localhost\",\n",
    "    port = \"5432\"\n",
    "    \n",
    ")\n",
    "cur = conn.cursor()\n",
    "cur.execute(\"\"\"\n",
    "    CREATE TABLE IF NOT EXISTS documents (\n",
    "    id SERIAL PRIMARY KEY,\n",
    "    content TEXT,\n",
    "    embedding vector(1024)\n",
    "\"\"\")\n",
    "conn.commit()\n",
    "cur.close( )\n",
    "conn.close()\n"
   ]
  },
  {
   "cell_type": "code",
   "execution_count": 76,
   "id": "cb7f9e2f-72bb-4235-aa1e-f8db28529b7c",
   "metadata": {},
   "outputs": [
    {
     "data": {
      "text/plain": [
       "[('หญิง|อายุ19ปีภาวะการปรับตัวผิดปกติ (Adjustment disorder)11/18/2023ภาวะการปรับตัวผิดปกติวิตกกังวลคิดมาก+2มีอาการเศร้าคิดมากเครียดวิตกกังวลหยุดคิดไม่ได้คิดซ้ำๆ ควรปรับตัวยังไงคะเพราะกลัวว่าจะกลับไปทำร้ายตัวเองอีก0แพทย์ตอบคำปรึกษาแล้วแชร์กระทู้',\n",
       "  0.4102189051843953),\n",
       " ('หญิง|อายุ19ปีต่อมน้ำเหลืองที่คอติดเชื้อ (Cervical Lymphadenitis)7/4/2023เจ็บคอคันคอคอแดง+4มีก้อนขึ้นที่คอบริเวณ4จุด บริเวณท้ายทอยด้านขวา ข้างคอขวา ใต้คางและช่วงต่อระหว่างคอและไหล่ กดแล้วเจ็บ มีเลือดออกตามไรฟันตอนกลางคืนพอตื่นเช้ามาบ้วนน้ำลายแล้วมีสีเหลืองปนเลือดและมีีอาการเจ็บคอร่วมด้วยในทุกๆเช้า ส่วนตัวฟันซ้อนและมีฟันคุดล่างขวาที่ยังไม่ได้ถอนค่ะ ฟันใกล้ๆมีอาการปวดร่วมด้วยเวลาเคี้ยวอาหาร อาการอย่างอื่นนอกเหนือจากนี้ไม่มีค่ะ0แพทย์ตอบคำปรึกษาแล้วแชร์กระทู้',\n",
       "  0.4326545676404713),\n",
       " ('หญิง|อายุ19ปีทอนซิลอักเสบ ติดเชื้อ (Bacterial pharyngotonsilitis)6/9/2023ทอนซิลอักเสบ ติดเชื้อเจ็บคอคันคอ+2เป็นทอมซิลอักเสบรอบที่ 3 ของปีค่ะ รอบเเรกเดือนกุมภา รอบสองเดือนพฤษภา รอบสามเดือนมิถุนาค่ะ ไม่กินเหล้า สูบบุหรี่ โรคประจำตัวคือ ภูมิแพ้ต่อมไขมัน ยิ่งเจ็บมากขึ้นทุกครั้งที่เป็น หมอคล้ำก้อนเนื้อไม่เจอ ตรงทอมซิลอักเสบและมีหนอง มีเลือดไหล เเละเลือดจะไหลเยอะมาก เวลาเผลอไอ ไม่มีน้ำมูก ไม่ไอ มีไข้นิดหน่อย อาการส่วนใหญ่คือเจ็บคอมากๆๆๆ พอกินยาก็ดีขึ้น แน่จะกลับทาเป็นใหม่ในอีก 3-4 สัปดาห์ กังวลมากเลยค่ะ มีอะไรแนะนำไหมคะ0แพทย์ตอบคำปรึกษาแล้วแชร์กระทู้',\n",
       "  0.4332412650215125),\n",
       " ('ชาย|อายุ19ปีกระเพาะปัสสาวะอักเสบ (Cystitis)11/18/2023จุกแน่นท้องปัสสาวะกะปริบกะปรอยก้อนบริเวณอัณฑะ+3สวัสดีครับ หลังจากผมช่วยตัวเองไปก็เริ่มมีอาการ ปัสสาวะบ่อยแต่น้อย ถุงอัณฑะมีก้อนนิ้มๆจับแล้วปวด และปวดท้องน้อยครับ เริ่มมีอาการตั้งแต่วันอังคารที่ 14 ครับ0แพทย์ตอบคำปรึกษาแล้วแชร์กระทู้',\n",
       "  0.4383034853211676),\n",
       " ('หญิง|อายุ20ปีชักเกร็ง (Seizure unspecified)6/22/2023ชักเกร็งกระตุกนอนหลับยาก+1สวัสดีค่ะ มีอาการกระตุกตลอดเวลา เป็นที่เท้าบ้าง แขน นิ้วมือกระดิก หน้า ปาก  ส่วนมากจะเป็นตอนที่นอนเฉยๆหรือตอนกำลังที่จะเคลิ้มหลับค่ะ ชอบกระตุกจนนอนไม่ได้ค่ะ ครั้งหนึ่งตกใจตื่นเพราะกระตุกที่หน้าแบบแรงมากแบบพยักไปเอง ทำให้ไม่กล้านอนเพราะไม่ชอบเวลากระตุก ช่วงก่อนๆเป็นไม่มากค่ะ แต่ช่วงนี้แทบทุกวัน กังวลมากค่ะ จะเป็นอะไรมั้ยคะ0แพทย์ตอบคำปรึกษาแล้วแชร์กระทู้',\n",
       "  0.44206918667097406)]"
      ]
     },
     "execution_count": 76,
     "metadata": {},
     "output_type": "execute_result"
    }
   ],
   "source": [
    "def query_postgresql(query_text, k=5):\n",
    "    query_embedding = embedder.encode(query_text).tolist()\n",
    "    conn = psycopg2.connect(\n",
    "        dbname=\"mydb\",\n",
    "        user=\"admin\",\n",
    "        password=\"1234\",\n",
    "        host=\"localhost\",\n",
    "        port=\"5432\"\n",
    "    )\n",
    "    cur = conn.cursor()\n",
    "\n",
    "    query_embedding_str = \"[\" + \",\".join(map(str, query_embedding)) + \"]\"\n",
    "    sql_query = \"\"\"\n",
    "        SELECT content,embedding <=> %s::vector AS similarity_score\n",
    "        FROM documents\n",
    "        ORDER BY similarity_score ASC\n",
    "        LIMIT %s;\n",
    "    \"\"\"\n",
    "    cur.execute(sql_query, (query_embedding_str, k))\n",
    "    results = cur.fetchall()\n",
    "    conn.close()\n",
    "    return results\n",
    "\n",
    "\n",
    "query_postgresql(\"อาการของคนไข้อายุ 19\")\n"
   ]
  },
  {
   "cell_type": "code",
   "execution_count": 89,
   "id": "b3597b1c-f870-45a9-8b15-26ed79b16ce3",
   "metadata": {},
   "outputs": [
    {
     "data": {
      "text/plain": [
       "'ขออภัยครับ/ค่ะ แต่การให้คำปรึกษาเกี่ยวกับการมีเพศสัมพันธ์และอาการที่เกิดขึ้นหลังจากนั้นจะต้องอยู่ในความเชี่ยวชาญของแพทย์ผู้เชี่ยวชาญด้านเพศสภาพหรือแพทย์ผู้เชี่ยวชาญด้านสูติศาสตร์ ซึ่งมีความรู้และประสบการณ์ในเรื่องนี้มากขึ้น\\n\\nหากคุณมีอาการเลือดออกหลังมีเพศสัมพันธ์ และมีอาการเหล่านี้ เช่น เลือดสีน้ำตาล, การมีเพศสัมพันธ์กับบุคคลอื่นที่ไม่ได้รับการตรวจสอบว่าไม่มีโรคติดต่อทางเพศสัมพันธ์, หรือมีประวัติเลือดออกผิดปกติในอดีต มีความเสี่ยงในการติดเชื้อโรคต่างๆ เช่น โรคเรทรोवायरัส, โรคเฮปทิติสซี, โรคฮีวิทแมน-ดับเบิลยู (HIV)\\n\\nหากคุณกำลังพิจารณาการมีเพศสัมพันธ์ใหม่ ควรทำการตรวจสอบว่าบุคคลนั้นไม่มีโรคติดต่อทางเพศสัมพันธ์ และควรใช้ถุงยางป้องกันโรคติดต่อทางเพศสัมพันธ์ทุกครั้งที่มีเพศสัมพันธ์\\n\\nหากคุณมีอาการที่รุนแรงหรือไม่แน่ใจว่าเป็นอะไร ควรไปพบแพทย์ผู้เชี่ยวชาญด้านเพศสภาพหรือแพทย์ผู้เชี่ยวชาญด้านสูติศาสตร์เพื่อทำการตรวจสอบและให้คำปรึกษาอย่างเหมาะสมครับ/ค่ะ'"
      ]
     },
     "execution_count": 89,
     "metadata": {},
     "output_type": "execute_result"
    }
   ],
   "source": [
    "def generate_response(query_text):\n",
    "    retrieved_docs = query_postgresql(query_text)\n",
    "    context = \"\\n\".join([doc[0] for doc in retrieved_docs])\n",
    "    prompt = f\"Answer the question:\\n{context}\\n\\nQuestion:{query_text}\"\n",
    "    response = ollama.chat(model=\"llama3.2\",messages=[\n",
    "        {\"role\":\"system\",\"content\":\"You are a professional and ethical medical doctor who provides accurate, safe, and easy-to-understand health advice to patients. When answering questions, you should use the patient’s medical records\n",
    "\"},\n",
    "        {\"role\":\"user\",\"content\":prompt}\n",
    "    ])\n",
    "    return response[\"message\"][\"content\"]\n",
    "                           \n",
    "generate_response(\"อาการเลือดออกหลังมีเพศสัมพันธ์ เลือดสีน้ำตาล และเคยมีประวัติเลือดออกผิดปกติ มีความเสี่ยงอะไรบ้าง\")"
   ]
  },
  {
   "cell_type": "code",
   "execution_count": null,
   "id": "c4cf9b09-c69a-4837-a850-eb904845b81a",
   "metadata": {},
   "outputs": [],
   "source": []
  }
 ],
 "metadata": {
  "kernelspec": {
   "display_name": "Python 3 (ipykernel)",
   "language": "python",
   "name": "python3"
  },
  "language_info": {
   "codemirror_mode": {
    "name": "ipython",
    "version": 3
   },
   "file_extension": ".py",
   "mimetype": "text/x-python",
   "name": "python",
   "nbconvert_exporter": "python",
   "pygments_lexer": "ipython3",
   "version": "3.12.0"
  }
 },
 "nbformat": 4,
 "nbformat_minor": 5
}
